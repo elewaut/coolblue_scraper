{
 "cells": [
  {
   "cell_type": "code",
   "execution_count": 88,
   "metadata": {},
   "outputs": [],
   "source": [
    "import pandas as pd\n",
    "import matplotlib.pyplot as plt"
   ]
  },
  {
   "cell_type": "code",
   "execution_count": 89,
   "metadata": {},
   "outputs": [],
   "source": [
    "df = pd.read_excel(r'C:\\Users\\belewaut\\Downloads\\20210829_coolblue_raw_data_Telefonie.xlsx')"
   ]
  },
  {
   "cell_type": "code",
   "execution_count": 90,
   "metadata": {},
   "outputs": [
    {
     "data": {
      "text/plain": [
       "0     1.799\n",
       "1     1.049\n",
       "2       489\n",
       "3    863,99\n",
       "4       449\n",
       "Name: price, dtype: object"
      ]
     },
     "execution_count": 90,
     "metadata": {},
     "output_type": "execute_result"
    }
   ],
   "source": [
    "#reorganising column price, using the rstrip() method - removes any trailing characters (keep ',' that indicates decimals')\n",
    "df['price'] = df['price'].str.replace(r'-','')\n",
    "df['price'] = df['price'].str.rstrip(',')\n",
    "df['price'] = df['price'].str.rstrip(' ')\n",
    "df['price'].head(5)"
   ]
  },
  {
   "cell_type": "code",
   "execution_count": 91,
   "metadata": {},
   "outputs": [],
   "source": [
    "#will not use last two columns\n",
    "df = df.drop(columns=[\"product_class\",\"date_of_scrape\"])"
   ]
  },
  {
   "cell_type": "code",
   "execution_count": 92,
   "metadata": {},
   "outputs": [
    {
     "name": "stdout",
     "output_type": "stream",
     "text": [
      "<class 'pandas.core.frame.DataFrame'>\n",
      "RangeIndex: 2552 entries, 0 to 2551\n",
      "Data columns (total 5 columns):\n",
      " #   Column               Non-Null Count  Dtype  \n",
      "---  ------               --------------  -----  \n",
      " 0   product_description  2552 non-null   object \n",
      " 1   price                2552 non-null   object \n",
      " 2   rating               2552 non-null   float64\n",
      " 3   amount_reviews       2552 non-null   object \n",
      " 4   product_category     2552 non-null   object \n",
      "dtypes: float64(1), object(4)\n",
      "memory usage: 99.8+ KB\n"
     ]
    }
   ],
   "source": [
    "#checking dtypes of all columns, in order to reset to correct formats\n",
    "df.info()"
   ]
  },
  {
   "cell_type": "code",
   "execution_count": 93,
   "metadata": {},
   "outputs": [],
   "source": [
    "#price, rating and amount_reviews need to be float, int, int \n",
    "df[\"price\"] = df['price'].str.replace(r'.','')\n",
    "df[\"price\"] = df['price'].str.replace(r',','.')\n",
    "df[\"price\"] = pd.to_numeric(df['price'], errors = 'raise')"
   ]
  },
  {
   "cell_type": "code",
   "execution_count": 94,
   "metadata": {},
   "outputs": [],
   "source": [
    "#price, rating and amount_reviews need to be float, int, int \n",
    "df[\"amount_reviews\"] = df['amount_reviews'].str.replace(r' reviews','')"
   ]
  },
  {
   "cell_type": "code",
   "execution_count": 95,
   "metadata": {},
   "outputs": [],
   "source": [
    "#price, rating and amount_reviews need to be float, int, int \n",
    "df[\"amount_reviews\"] = df['amount_reviews'].str.replace(r'1 review','1')\n",
    "df[\"amount_reviews\"] = df['amount_reviews'].fillna(0.0).astype(int)"
   ]
  },
  {
   "cell_type": "code",
   "execution_count": 96,
   "metadata": {},
   "outputs": [],
   "source": [
    "#price, rating and amount_reviews need to be float, int, int \n",
    "df[\"rating\"] = pd.to_numeric(df['rating'], errors = 'raise')"
   ]
  },
  {
   "cell_type": "code",
   "execution_count": 97,
   "metadata": {},
   "outputs": [
    {
     "data": {
      "text/html": [
       "<div>\n",
       "<style scoped>\n",
       "    .dataframe tbody tr th:only-of-type {\n",
       "        vertical-align: middle;\n",
       "    }\n",
       "\n",
       "    .dataframe tbody tr th {\n",
       "        vertical-align: top;\n",
       "    }\n",
       "\n",
       "    .dataframe thead th {\n",
       "        text-align: right;\n",
       "    }\n",
       "</style>\n",
       "<table border=\"1\" class=\"dataframe\">\n",
       "  <thead>\n",
       "    <tr style=\"text-align: right;\">\n",
       "      <th></th>\n",
       "      <th>product_description</th>\n",
       "      <th>price</th>\n",
       "      <th>rating</th>\n",
       "      <th>amount_reviews</th>\n",
       "      <th>product_category</th>\n",
       "    </tr>\n",
       "  </thead>\n",
       "  <tbody>\n",
       "    <tr>\n",
       "      <th>0</th>\n",
       "      <td>Samsung Galaxy Z Fold 3 256GB Zwart 5G</td>\n",
       "      <td>1799.00</td>\n",
       "      <td>5.0</td>\n",
       "      <td>2</td>\n",
       "      <td>mobiele-telefoons</td>\n",
       "    </tr>\n",
       "    <tr>\n",
       "      <th>1</th>\n",
       "      <td>Samsung Galaxy Z Flip 3 128GB Zwart 5G</td>\n",
       "      <td>1049.00</td>\n",
       "      <td>0.0</td>\n",
       "      <td>0</td>\n",
       "      <td>mobiele-telefoons</td>\n",
       "    </tr>\n",
       "    <tr>\n",
       "      <th>2</th>\n",
       "      <td>Samsung Galaxy S20 FE 128GB Blauw 4G</td>\n",
       "      <td>489.00</td>\n",
       "      <td>4.5</td>\n",
       "      <td>331</td>\n",
       "      <td>mobiele-telefoons</td>\n",
       "    </tr>\n",
       "    <tr>\n",
       "      <th>3</th>\n",
       "      <td>Apple iPhone 12 128GB Zwart + Apple Usb C Opla...</td>\n",
       "      <td>863.99</td>\n",
       "      <td>4.5</td>\n",
       "      <td>408</td>\n",
       "      <td>mobiele-telefoons</td>\n",
       "    </tr>\n",
       "    <tr>\n",
       "      <th>4</th>\n",
       "      <td>Samsung Galaxy A52s 128GB Groen 5G</td>\n",
       "      <td>449.00</td>\n",
       "      <td>0.0</td>\n",
       "      <td>0</td>\n",
       "      <td>mobiele-telefoons</td>\n",
       "    </tr>\n",
       "    <tr>\n",
       "      <th>5</th>\n",
       "      <td>Apple iPhone SE 64GB Zwart + Apple Usb C Oplad...</td>\n",
       "      <td>503.99</td>\n",
       "      <td>4.5</td>\n",
       "      <td>999</td>\n",
       "      <td>mobiele-telefoons</td>\n",
       "    </tr>\n",
       "    <tr>\n",
       "      <th>6</th>\n",
       "      <td>Apple iPhone 12 128GB Zwart + Accessoirepakket...</td>\n",
       "      <td>955.92</td>\n",
       "      <td>0.0</td>\n",
       "      <td>0</td>\n",
       "      <td>mobiele-telefoons</td>\n",
       "    </tr>\n",
       "    <tr>\n",
       "      <th>7</th>\n",
       "      <td>Samsung Galaxy S21 128GB Grijs 5G</td>\n",
       "      <td>779.00</td>\n",
       "      <td>4.5</td>\n",
       "      <td>112</td>\n",
       "      <td>mobiele-telefoons</td>\n",
       "    </tr>\n",
       "    <tr>\n",
       "      <th>8</th>\n",
       "      <td>Apple iPhone 11 128 GB Zwart + Accessoirepakket</td>\n",
       "      <td>798.93</td>\n",
       "      <td>0.0</td>\n",
       "      <td>0</td>\n",
       "      <td>mobiele-telefoons</td>\n",
       "    </tr>\n",
       "    <tr>\n",
       "      <th>9</th>\n",
       "      <td>Samsung Galaxy A72 128GB Zwart</td>\n",
       "      <td>439.00</td>\n",
       "      <td>4.5</td>\n",
       "      <td>96</td>\n",
       "      <td>mobiele-telefoons</td>\n",
       "    </tr>\n",
       "  </tbody>\n",
       "</table>\n",
       "</div>"
      ],
      "text/plain": [
       "                                 product_description    price  rating  \\\n",
       "0             Samsung Galaxy Z Fold 3 256GB Zwart 5G  1799.00     5.0   \n",
       "1             Samsung Galaxy Z Flip 3 128GB Zwart 5G  1049.00     0.0   \n",
       "2               Samsung Galaxy S20 FE 128GB Blauw 4G   489.00     4.5   \n",
       "3  Apple iPhone 12 128GB Zwart + Apple Usb C Opla...   863.99     4.5   \n",
       "4                 Samsung Galaxy A52s 128GB Groen 5G   449.00     0.0   \n",
       "5  Apple iPhone SE 64GB Zwart + Apple Usb C Oplad...   503.99     4.5   \n",
       "6  Apple iPhone 12 128GB Zwart + Accessoirepakket...   955.92     0.0   \n",
       "7                  Samsung Galaxy S21 128GB Grijs 5G   779.00     4.5   \n",
       "8    Apple iPhone 11 128 GB Zwart + Accessoirepakket   798.93     0.0   \n",
       "9                     Samsung Galaxy A72 128GB Zwart   439.00     4.5   \n",
       "\n",
       "   amount_reviews   product_category  \n",
       "0               2  mobiele-telefoons  \n",
       "1               0  mobiele-telefoons  \n",
       "2             331  mobiele-telefoons  \n",
       "3             408  mobiele-telefoons  \n",
       "4               0  mobiele-telefoons  \n",
       "5             999  mobiele-telefoons  \n",
       "6               0  mobiele-telefoons  \n",
       "7             112  mobiele-telefoons  \n",
       "8               0  mobiele-telefoons  \n",
       "9              96  mobiele-telefoons  "
      ]
     },
     "execution_count": 97,
     "metadata": {},
     "output_type": "execute_result"
    }
   ],
   "source": [
    "df.head(10)"
   ]
  },
  {
   "cell_type": "code",
   "execution_count": 98,
   "metadata": {},
   "outputs": [],
   "source": [
    "#renaming mobiele telefoons + filtering df on smartphones\n",
    "df[\"product_category\"] = df[\"product_category\"].str.replace(r'mobiele-telefoons','smartphones')\n",
    "df_smartphones_only = df['product_category']=='smartphones'\n",
    "df = df[df_smartphones_only]\n",
    "df[['brand', 'product_description']] = df['product_description'].str.split(' ', 1, expand=True)"
   ]
  },
  {
   "cell_type": "code",
   "execution_count": 99,
   "metadata": {},
   "outputs": [
    {
     "data": {
      "text/plain": [
       "array(['Samsung', 'Apple', 'OnePlus', 'MagSafe', 'OPPO', 'Sony',\n",
       "       'Motorola', 'Xiaomi', 'Nokia', 'Starterspakket', 'Cat', 'CAT',\n",
       "       'Fysic', 'CrossCall', 'Emporia'], dtype=object)"
      ]
     },
     "execution_count": 99,
     "metadata": {},
     "output_type": "execute_result"
    }
   ],
   "source": [
    "#getting all unique smartphone brands\n",
    "df['brand'].unique()"
   ]
  },
  {
   "cell_type": "code",
   "execution_count": 100,
   "metadata": {},
   "outputs": [],
   "source": [
    "df = df[df.brand != \"Starterspakket\"]"
   ]
  },
  {
   "cell_type": "code",
   "execution_count": 101,
   "metadata": {},
   "outputs": [
    {
     "data": {
      "text/plain": [
       "Apple        176\n",
       "Samsung      143\n",
       "Xiaomi        26\n",
       "OnePlus       26\n",
       "OPPO          24\n",
       "MagSafe       12\n",
       "Nokia         11\n",
       "Motorola       8\n",
       "Emporia        4\n",
       "Sony           2\n",
       "Cat            1\n",
       "CrossCall      1\n",
       "Fysic          1\n",
       "CAT            1\n",
       "Name: brand, dtype: int64"
      ]
     },
     "execution_count": 101,
     "metadata": {},
     "output_type": "execute_result"
    }
   ],
   "source": [
    "df['brand'].value_counts()"
   ]
  },
  {
   "cell_type": "code",
   "execution_count": 102,
   "metadata": {},
   "outputs": [],
   "source": [
    "df['brand'] = df['brand'].apply(lambda x:x.lower())"
   ]
  },
  {
   "cell_type": "code",
   "execution_count": 103,
   "metadata": {},
   "outputs": [
    {
     "data": {
      "text/plain": [
       "Text(0.5, 1.02, 'All smartphones brand sold by coolblue')"
      ]
     },
     "execution_count": 103,
     "metadata": {},
     "output_type": "execute_result"
    },
    {
     "data": {
      "image/png": "[encoded data removed]",
      "text/plain": [
       "<Figure size 432x288 with 1 Axes>"
      ]
     },
     "metadata": {
      "needs_background": "light"
     },
     "output_type": "display_data"
    }
   ],
   "source": [
    "#horizontal bar plot\n",
    "df['brand'].value_counts().plot(kind='barh') \n",
    "plt.xlabel(\"Amount of smartphones in store\", labelpad=14)\n",
    "plt.ylabel(\"Smartphone brand\", labelpad=14)\n",
    "plt.title(\"All smartphones brand sold by coolblue\", y=1.02)"
   ]
  },
  {
   "cell_type": "code",
   "execution_count": null,
   "metadata": {},
   "outputs": [],
   "source": []
  }
 ],
 "metadata": {
  "kernelspec": {
   "display_name": "Python 3",
   "language": "python",
   "name": "python3"
  },
  "language_info": {
   "codemirror_mode": {
    "name": "ipython",
    "version": 3
   },
   "file_extension": ".py",
   "mimetype": "text/x-python",
   "name": "python",
   "nbconvert_exporter": "python",
   "pygments_lexer": "ipython3",
   "version": "3.8.5"
  }
 },
 "nbformat": 4,
 "nbformat_minor": 4
}
